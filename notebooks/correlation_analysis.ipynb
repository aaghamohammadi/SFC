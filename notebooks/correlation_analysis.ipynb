{
 "cells": [
  {
   "cell_type": "code",
   "execution_count": 1,
   "metadata": {},
   "outputs": [],
   "source": [
    "import pandas as pd\n",
    "import scipy.stats as stats"
   ]
  },
  {
   "cell_type": "code",
   "execution_count": 2,
   "metadata": {},
   "outputs": [],
   "source": [
    "DATA_PATH = \"../data/\""
   ]
  },
  {
   "cell_type": "code",
   "execution_count": 3,
   "metadata": {},
   "outputs": [],
   "source": [
    "results = pd.read_excel(DATA_PATH + \"data.xlsx\")"
   ]
  },
  {
   "cell_type": "code",
   "execution_count": 4,
   "metadata": {},
   "outputs": [
    {
     "data": {
      "text/html": [
       "<div>\n",
       "<style scoped>\n",
       "    .dataframe tbody tr th:only-of-type {\n",
       "        vertical-align: middle;\n",
       "    }\n",
       "\n",
       "    .dataframe tbody tr th {\n",
       "        vertical-align: top;\n",
       "    }\n",
       "\n",
       "    .dataframe thead th {\n",
       "        text-align: right;\n",
       "    }\n",
       "</style>\n",
       "<table border=\"1\" class=\"dataframe\">\n",
       "  <thead>\n",
       "    <tr style=\"text-align: right;\">\n",
       "      <th></th>\n",
       "      <th>Project</th>\n",
       "      <th>SFC</th>\n",
       "      <th>SC</th>\n",
       "      <th>BC</th>\n",
       "      <th>MC</th>\n",
       "      <th>NMU</th>\n",
       "      <th>SLOC</th>\n",
       "      <th>NB</th>\n",
       "      <th>NM</th>\n",
       "      <th>NT</th>\n",
       "      <th>NC</th>\n",
       "      <th>NR</th>\n",
       "      <th>Domain</th>\n",
       "    </tr>\n",
       "  </thead>\n",
       "  <tbody>\n",
       "    <tr>\n",
       "      <th>0</th>\n",
       "      <td>django</td>\n",
       "      <td>66</td>\n",
       "      <td>77</td>\n",
       "      <td>75</td>\n",
       "      <td>55</td>\n",
       "      <td>24397</td>\n",
       "      <td>60383</td>\n",
       "      <td>22043</td>\n",
       "      <td>5769.0</td>\n",
       "      <td>13501</td>\n",
       "      <td>27955</td>\n",
       "      <td>278</td>\n",
       "      <td>Web Framework</td>\n",
       "    </tr>\n",
       "    <tr>\n",
       "      <th>1</th>\n",
       "      <td>libcst</td>\n",
       "      <td>42</td>\n",
       "      <td>94</td>\n",
       "      <td>87</td>\n",
       "      <td>36</td>\n",
       "      <td>6338</td>\n",
       "      <td>21449</td>\n",
       "      <td>5177</td>\n",
       "      <td>NaN</td>\n",
       "      <td>1685</td>\n",
       "      <td>483</td>\n",
       "      <td>21</td>\n",
       "      <td>Syntax Tree Parser</td>\n",
       "    </tr>\n",
       "    <tr>\n",
       "      <th>2</th>\n",
       "      <td>gitsome</td>\n",
       "      <td>11</td>\n",
       "      <td>46</td>\n",
       "      <td>25</td>\n",
       "      <td>15</td>\n",
       "      <td>2595</td>\n",
       "      <td>5868</td>\n",
       "      <td>1422</td>\n",
       "      <td>NaN</td>\n",
       "      <td>97</td>\n",
       "      <td>1015</td>\n",
       "      <td>8</td>\n",
       "      <td>Git Command-line Interface</td>\n",
       "    </tr>\n",
       "    <tr>\n",
       "      <th>3</th>\n",
       "      <td>python-fire</td>\n",
       "      <td>24</td>\n",
       "      <td>82</td>\n",
       "      <td>61</td>\n",
       "      <td>52</td>\n",
       "      <td>1403</td>\n",
       "      <td>4581</td>\n",
       "      <td>1136</td>\n",
       "      <td>570.0</td>\n",
       "      <td>252</td>\n",
       "      <td>222</td>\n",
       "      <td>6</td>\n",
       "      <td>Command-line Interfaces</td>\n",
       "    </tr>\n",
       "    <tr>\n",
       "      <th>4</th>\n",
       "      <td>pydantic</td>\n",
       "      <td>68</td>\n",
       "      <td>98</td>\n",
       "      <td>98</td>\n",
       "      <td>60</td>\n",
       "      <td>2151</td>\n",
       "      <td>4168</td>\n",
       "      <td>1662</td>\n",
       "      <td>425.0</td>\n",
       "      <td>1642</td>\n",
       "      <td>703</td>\n",
       "      <td>68</td>\n",
       "      <td>Data Parsing</td>\n",
       "    </tr>\n",
       "  </tbody>\n",
       "</table>\n",
       "</div>"
      ],
      "text/plain": [
       "       Project  SFC  SC  BC  MC    NMU   SLOC     NB      NM     NT     NC  \\\n",
       "0       django   66  77  75  55  24397  60383  22043  5769.0  13501  27955   \n",
       "1       libcst   42  94  87  36   6338  21449   5177     NaN   1685    483   \n",
       "2      gitsome   11  46  25  15   2595   5868   1422     NaN     97   1015   \n",
       "3  python-fire   24  82  61  52   1403   4581   1136   570.0    252    222   \n",
       "4     pydantic   68  98  98  60   2151   4168   1662   425.0   1642    703   \n",
       "\n",
       "    NR                      Domain  \n",
       "0  278               Web Framework  \n",
       "1   21          Syntax Tree Parser  \n",
       "2    8  Git Command-line Interface  \n",
       "3    6     Command-line Interfaces  \n",
       "4   68                Data Parsing  "
      ]
     },
     "execution_count": 4,
     "metadata": {},
     "output_type": "execute_result"
    }
   ],
   "source": [
    "results.head()"
   ]
  },
  {
   "cell_type": "code",
   "execution_count": 5,
   "metadata": {},
   "outputs": [
    {
     "data": {
      "text/plain": [
       "SpearmanrResult(correlation=0.7611098130284742, pvalue=3.899460585783956e-05)"
      ]
     },
     "execution_count": 5,
     "metadata": {},
     "output_type": "execute_result"
    }
   ],
   "source": [
    "stats.spearmanr(results['SFC'], results['MC'])"
   ]
  },
  {
   "cell_type": "code",
   "execution_count": 6,
   "metadata": {},
   "outputs": [
    {
     "data": {
      "text/plain": [
       "SpearmanrResult(correlation=0.6046024699360265, pvalue=0.002877184963573365)"
      ]
     },
     "execution_count": 6,
     "metadata": {},
     "output_type": "execute_result"
    }
   ],
   "source": [
    "stats.spearmanr(results['SC'], results['MC'])"
   ]
  },
  {
   "cell_type": "code",
   "execution_count": 7,
   "metadata": {},
   "outputs": [
    {
     "data": {
      "text/plain": [
       "SpearmanrResult(correlation=0.6600678733031673, pvalue=0.0008294409605459159)"
      ]
     },
     "execution_count": 7,
     "metadata": {},
     "output_type": "execute_result"
    }
   ],
   "source": [
    "stats.spearmanr(results['BC'], results['MC'])"
   ]
  },
  {
   "cell_type": "code",
   "execution_count": 8,
   "metadata": {},
   "outputs": [
    {
     "data": {
      "text/plain": [
       "KendalltauResult(correlation=0.5594767944216735, pvalue=0.0003263323739869701)"
      ]
     },
     "execution_count": 8,
     "metadata": {},
     "output_type": "execute_result"
    }
   ],
   "source": [
    "stats.kendalltau(results['SFC'], results['MC'])"
   ]
  },
  {
   "cell_type": "code",
   "execution_count": 9,
   "metadata": {},
   "outputs": [
    {
     "data": {
      "text/plain": [
       "KendalltauResult(correlation=0.3938158499301068, pvalue=0.012458823237711499)"
      ]
     },
     "execution_count": 9,
     "metadata": {},
     "output_type": "execute_result"
    }
   ],
   "source": [
    "stats.kendalltau(results['SC'], results['MC'])"
   ]
  },
  {
   "cell_type": "code",
   "execution_count": 10,
   "metadata": {},
   "outputs": [
    {
     "data": {
      "text/plain": [
       "KendalltauResult(correlation=0.42543859649122806, pvalue=0.006112131579948481)"
      ]
     },
     "execution_count": 10,
     "metadata": {},
     "output_type": "execute_result"
    }
   ],
   "source": [
    "stats.kendalltau(results['BC'], results['MC'])"
   ]
  },
  {
   "cell_type": "code",
   "execution_count": 5,
   "metadata": {},
   "outputs": [
    {
     "data": {
      "text/plain": [
       "SpearmanrResult(correlation=0.8464144551101074, pvalue=6.881640411697458e-07)"
      ]
     },
     "execution_count": 5,
     "metadata": {},
     "output_type": "execute_result"
    }
   ],
   "source": [
    "stats.spearmanr(results['NT'], results['NMU'] * results['MC'])"
   ]
  },
  {
   "cell_type": "code",
   "execution_count": 6,
   "metadata": {},
   "outputs": [
    {
     "data": {
      "text/plain": [
       "KendalltauResult(correlation=0.6796536796536796, pvalue=1.5790404538325107e-06)"
      ]
     },
     "execution_count": 6,
     "metadata": {},
     "output_type": "execute_result"
    }
   ],
   "source": [
    "stats.kendalltau(results['NT'], results['NMU'] * results['MC'])"
   ]
  },
  {
   "cell_type": "code",
   "execution_count": null,
   "metadata": {},
   "outputs": [],
   "source": []
  }
 ],
 "metadata": {
  "kernelspec": {
   "display_name": "Python 3",
   "language": "python",
   "name": "python3"
  },
  "language_info": {
   "codemirror_mode": {
    "name": "ipython",
    "version": 3
   },
   "file_extension": ".py",
   "mimetype": "text/x-python",
   "name": "python",
   "nbconvert_exporter": "python",
   "pygments_lexer": "ipython3",
   "version": "3.8.1"
  }
 },
 "nbformat": 4,
 "nbformat_minor": 4
}
