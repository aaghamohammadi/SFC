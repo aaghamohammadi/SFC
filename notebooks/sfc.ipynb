{
 "cells": [
  {
   "cell_type": "code",
   "execution_count": 1,
   "metadata": {},
   "outputs": [],
   "source": [
    "from pathlib import Path\n",
    "import re"
   ]
  },
  {
   "cell_type": "code",
   "execution_count": 2,
   "metadata": {},
   "outputs": [],
   "source": [
    "NT = 1"
   ]
  },
  {
   "cell_type": "code",
   "execution_count": 3,
   "metadata": {},
   "outputs": [],
   "source": [
    "dPath = Path(\"../tmp\")"
   ]
  },
  {
   "cell_type": "code",
   "execution_count": 4,
   "metadata": {},
   "outputs": [],
   "source": [
    "for file in dPath.iterdir():\n",
    "    with open(file, 'r',encoding=\"utf8\") as filename:\n",
    "        line_number = 1\n",
    "        lst = []\n",
    "        for s in filename:\n",
    "            temp = re.findall(r'\\d+', s)\n",
    "            res = list(map(int, temp))\n",
    "            if res:\n",
    "                lst.append(f\"{line_number},{res[0]}\\n\")\n",
    "            else:\n",
    "                if s.startswith(\">>>>>>\"):\n",
    "                    lst.append(f\"{line_number},0\\n\")\n",
    "                else:\n",
    "                    lst.append(f\"{line_number},?\\n\")\n",
    "            line_number += 1\n",
    "    with open(file, 'w') as filename:\n",
    "        for line in lst:\n",
    "            filename.write(line)"
   ]
  },
  {
   "cell_type": "code",
   "execution_count": 5,
   "metadata": {},
   "outputs": [
    {
     "name": "stdout",
     "output_type": "stream",
     "text": [
      "6\n"
     ]
    }
   ],
   "source": [
    "SLOC = 0\n",
    "for file in dPath.iterdir():\n",
    "    with open(file, 'r',encoding=\"utf8\") as filename: \n",
    "        for s in filename:\n",
    "            sep = \",\"\n",
    "            ln, rf = s.strip().split(sep)\n",
    "            ln = int(ln)\n",
    "            rf = int(rf) if rf != \"?\" else -1\n",
    "            if rf >=0:\n",
    "                SLOC += 1\n",
    "print(SLOC)"
   ]
  },
  {
   "cell_type": "code",
   "execution_count": 6,
   "metadata": {},
   "outputs": [
    {
     "name": "stdout",
     "output_type": "stream",
     "text": [
      "25.00\n"
     ]
    }
   ],
   "source": [
    "c = SLOC / NT\n",
    "coverage = 0.0\n",
    "for file in dPath.iterdir():\n",
    "    with open(file, 'r',encoding=\"utf8\") as filename: \n",
    "        for s in filename:\n",
    "            sep = \",\"\n",
    "            ln, rf = s.strip().split(sep)\n",
    "            ln = int(ln)\n",
    "            rf = int(rf) if rf != \"?\" else -1\n",
    "            if rf >=c:\n",
    "                coverage += 1\n",
    "            elif 0 < rf < c:\n",
    "                coverage += rf / c\n",
    "print(f\"{coverage * 100 / SLOC:.2f}\")"
   ]
  }
 ],
 "metadata": {
  "kernelspec": {
   "display_name": "Python 3",
   "language": "python",
   "name": "python3"
  },
  "language_info": {
   "codemirror_mode": {
    "name": "ipython",
    "version": 3
   },
   "file_extension": ".py",
   "mimetype": "text/x-python",
   "name": "python",
   "nbconvert_exporter": "python",
   "pygments_lexer": "ipython3",
   "version": "3.8.1"
  }
 },
 "nbformat": 4,
 "nbformat_minor": 4
}
